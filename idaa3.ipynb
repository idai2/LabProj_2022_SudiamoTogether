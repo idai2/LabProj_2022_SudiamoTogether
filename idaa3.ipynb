{
  "cells": [
    {
      "cell_type": "markdown",
      "metadata": {
        "id": "view-in-github",
        "colab_type": "text"
      },
      "source": [
        "<a href=\"https://colab.research.google.com/github/idai2/LabProj_2022_SudiamoTogether/blob/main/idaa3.ipynb\" target=\"_parent\"><img src=\"https://colab.research.google.com/assets/colab-badge.svg\" alt=\"Open In Colab\"/></a>"
      ]
    },
    {
      "cell_type": "code",
      "execution_count": null,
      "metadata": {
        "id": "tbZxCQKIHxzx",
        "colab": {
          "base_uri": "https://localhost:8080/"
        },
        "outputId": "c539fd06-7c2c-4859-b8b3-23c1c7250d59"
      },
      "outputs": [
        {
          "output_type": "execute_result",
          "data": {
            "text/plain": [
              "[name: \"/device:CPU:0\"\n",
              " device_type: \"CPU\"\n",
              " memory_limit: 268435456\n",
              " locality {\n",
              " }\n",
              " incarnation: 3037459586406298514\n",
              " xla_global_id: -1]"
            ]
          },
          "metadata": {},
          "execution_count": 1
        }
      ],
      "source": [
        "from tensorflow.python.client import device_lib\n",
        "device_lib.list_local_devices()"
      ]
    },
    {
      "cell_type": "code",
      "execution_count": null,
      "metadata": {
        "id": "sD2tH_buDiwU",
        "colab": {
          "base_uri": "https://localhost:8080/"
        },
        "outputId": "a6fea138-1c0c-49ce-dcd3-d3301547568b"
      },
      "outputs": [
        {
          "output_type": "stream",
          "name": "stdout",
          "text": [
            "Mounted at /content/drive\n"
          ]
        }
      ],
      "source": [
        "from google.colab import drive\n",
        "drive.mount('/content/drive')"
      ]
    },
    {
      "cell_type": "code",
      "execution_count": null,
      "metadata": {
        "id": "XIHsEJuO50TA",
        "colab": {
          "base_uri": "https://localhost:8080/"
        },
        "outputId": "86e002fc-41a0-4ae7-f10d-873dfd018316"
      },
      "outputs": [
        {
          "output_type": "stream",
          "name": "stdout",
          "text": [
            "/content/drive/MyDrive/idaproject\n"
          ]
        }
      ],
      "source": [
        "cd drive/MyDrive/idaproject"
      ]
    },
    {
      "cell_type": "markdown",
      "source": [
        "BRAIN tumor *segmentation*"
      ],
      "metadata": {
        "id": "uFl4Exp3vr2X"
      }
    },
    {
      "cell_type": "markdown",
      "source": [
        "Multi sclerosids disease"
      ],
      "metadata": {
        "id": "ffAM6wIGv2ZR"
      }
    },
    {
      "cell_type": "code",
      "source": [
        "# Let's load some other packages we need\n",
        "import os\n",
        "import numpy as np\n",
        "import matplotlib.pyplot as plt\n",
        "%matplotlib inline\n",
        "import nibabel as nib # common way of importing nibabel"
      ],
      "metadata": {
        "id": "IFA7JDV7v1cn"
      },
      "execution_count": null,
      "outputs": []
    },
    {
      "cell_type": "code",
      "source": [
        "mri_file = 'smask_ref.nii'\n",
        "img = nib.load(mri_file)\n",
        "mrii_file = 'FLAIR.nii'\n",
        "img1 = nib.load(mrii_file)"
      ],
      "metadata": {
        "id": "1vFO3Ra_wF83"
      },
      "execution_count": null,
      "outputs": []
    },
    {
      "cell_type": "code",
      "source": [
        "print(type(img))"
      ],
      "metadata": {
        "colab": {
          "base_uri": "https://localhost:8080/"
        },
        "id": "I7chmmkywpWF",
        "outputId": "66c60767-5ac4-48e6-8070-2add46306465"
      },
      "execution_count": null,
      "outputs": [
        {
          "output_type": "stream",
          "name": "stdout",
          "text": [
            "<class 'nibabel.nifti1.Nifti1Image'>\n"
          ]
        }
      ]
    },
    {
      "cell_type": "code",
      "source": [
        "print(img.shape)"
      ],
      "metadata": {
        "colab": {
          "base_uri": "https://localhost:8080/"
        },
        "id": "d-rKeOIUwuDg",
        "outputId": "afb78e2e-f3e9-4ed8-b33b-241a8ffd2ce1"
      },
      "execution_count": null,
      "outputs": [
        {
          "output_type": "stream",
          "name": "stdout",
          "text": [
            "(181, 217, 181)\n"
          ]
        }
      ]
    },
    {
      "cell_type": "code",
      "source": [
        "img_data = img.get_fdata()\n",
        "print(type(img_data))  # it's a numpy array!\n",
        "print(img_data.shape)\n",
        "img1_data = img1.get_fdata()\n",
        "print(img1_data.shape)\n"
      ],
      "metadata": {
        "colab": {
          "base_uri": "https://localhost:8080/"
        },
        "id": "qzZqVRQtw9oU",
        "outputId": "3fd936c5-ffb6-463a-fdda-29a9b59c32f3"
      },
      "execution_count": null,
      "outputs": [
        {
          "output_type": "stream",
          "name": "stdout",
          "text": [
            "<class 'numpy.memmap'>\n",
            "(181, 217, 181)\n",
            "(181, 217, 181)\n"
          ]
        }
      ]
    },
    {
      "cell_type": "code",
      "source": [
        "mid_slice_x = img_data[: ,:, 90]\n",
        "print(mid_slice_x.shape)"
      ],
      "metadata": {
        "colab": {
          "base_uri": "https://localhost:8080/"
        },
        "id": "ooJqz4afx0kw",
        "outputId": "ed983a87-3aff-43b7-bb11-ffa7694bf25e"
      },
      "execution_count": null,
      "outputs": [
        {
          "output_type": "stream",
          "name": "stdout",
          "text": [
            "(181, 217)\n"
          ]
        }
      ]
    },
    {
      "cell_type": "code",
      "source": [
        "# Note that the transpose the slice (using the .T attribute).\n",
        "# This is because imshow plots the first dimension on the y-axis and the\n",
        "# second on the x-axis, but we'd like to plot the first on the x-axis and the\n",
        "# second on the y-axis. Also, the origin to \"lower\", as the data was saved in\n",
        "# \"cartesian\" coordinates.\n",
        "#plt.imshow(mid_slice_x.T, cmap='gray', origin='lower')\n",
        "#plt.xlabel('First axis')\n",
        "#plt.ylabel('Second axis')\n",
        "#plt.colorbar(label='Signal intensity')\n",
        "#plt.show()\n",
        "#plt.imsave('smask_ref90.jpg', mid_slice_x.T, cmap= 'gray', origin='lower')\n",
        "gm_array=img1_data[img_data==2]\n",
        "#gm_array = np.where(img_data==2.0)\n",
        "#thr_img=(img_data>3)\n",
        "#print('thr_img', thr_img)\n",
        "print('gm_array', gm_array)\n",
        "#plt.imshow(thresh_img, cmap='gray')"
      ],
      "metadata": {
        "colab": {
          "base_uri": "https://localhost:8080/"
        },
        "id": "xImt_5lCzJBw",
        "outputId": "641a6bb8-ace5-4c1d-889e-ea7b0fd3ab43"
      },
      "execution_count": null,
      "outputs": [
        {
          "output_type": "stream",
          "name": "stdout",
          "text": [
            "gm_array [28496.20117188 24637.03320312 30497.71875    ... 15178.08691406\n",
            "  8334.09765625  5097.46630859]\n"
          ]
        }
      ]
    },
    {
      "cell_type": "code",
      "execution_count": null,
      "metadata": {
        "colab": {
          "base_uri": "https://localhost:8080/",
          "height": 283
        },
        "outputId": "1bf41729-0131-4e22-80b2-94376df1fca2",
        "id": "Y-H76jSdRPz0"
      },
      "outputs": [
        {
          "output_type": "stream",
          "name": "stdout",
          "text": [
            "[  0 691   0   0]\n"
          ]
        },
        {
          "output_type": "display_data",
          "data": {
            "text/plain": [
              "<Figure size 432x288 with 1 Axes>"
            ],
            "image/png": "[encoded data removed]"
          },
          "metadata": {
            "needs_background": "light"
          }
        }
      ],
      "source": [
        "import numpy as np\n",
        "import skimage.color\n",
        "import skimage.io\n",
        "import matplotlib.pyplot as plt\n",
        "import cv2\n",
        "\n",
        "from skimage import color\n",
        "from skimage import io\n",
        "#img = color.rgb2gray(io.imread('smask_ref90.jpg'))\n",
        "hist, bin_edges = np.histogram(gm_array, bins=[-1, 0, 1,2,3])\n",
        "print(hist)\n",
        "import matplotlib.pyplot as plt\n",
        "plt.bar(bin_edges[:-1], hist, width = 1)\n",
        "plt.xlim(min(bin_edges), max(bin_edges))\n",
        "plt.show() \n",
        "#ret, binary_mask = cv2.threshold(img1, 0.8, 255, cv2.THRESH_BINARY)\n",
        "#fig, ax = plt.subplots()\n",
        "#plt.imshow(binary_mask, cmap=\"gray\")\n",
        "#plt.show()\n",
        "#plt.imsave('binarysmask_ref90.jpg', binary_mask, cmap='gray')"
      ]
    },
    {
      "cell_type": "code",
      "source": [
        "binary_mask = (img_data==3).astype(np.uint8)\n",
        "print(binary_mask)"
      ],
      "metadata": {
        "colab": {
          "base_uri": "https://localhost:8080/"
        },
        "id": "8xau7I0dBG37",
        "outputId": "e4a636e2-8751-4733-9e58-0496f7c8f7c5"
      },
      "execution_count": null,
      "outputs": [
        {
          "output_type": "stream",
          "name": "stdout",
          "text": [
            "[[[0 0 0 ... 0 0 0]\n",
            "  [0 0 0 ... 0 0 0]\n",
            "  [0 0 0 ... 0 0 0]\n",
            "  ...\n",
            "  [0 0 0 ... 0 0 0]\n",
            "  [0 0 0 ... 0 0 0]\n",
            "  [0 0 0 ... 0 0 0]]\n",
            "\n",
            " [[0 0 0 ... 0 0 0]\n",
            "  [0 0 0 ... 0 0 0]\n",
            "  [0 0 0 ... 0 0 0]\n",
            "  ...\n",
            "  [0 0 0 ... 0 0 0]\n",
            "  [0 0 0 ... 0 0 0]\n",
            "  [0 0 0 ... 0 0 0]]\n",
            "\n",
            " [[0 0 0 ... 0 0 0]\n",
            "  [0 0 0 ... 0 0 0]\n",
            "  [0 0 0 ... 0 0 0]\n",
            "  ...\n",
            "  [0 0 0 ... 0 0 0]\n",
            "  [0 0 0 ... 0 0 0]\n",
            "  [0 0 0 ... 0 0 0]]\n",
            "\n",
            " ...\n",
            "\n",
            " [[0 0 0 ... 0 0 0]\n",
            "  [0 0 0 ... 0 0 0]\n",
            "  [0 0 0 ... 0 0 0]\n",
            "  ...\n",
            "  [0 0 0 ... 0 0 0]\n",
            "  [0 0 0 ... 0 0 0]\n",
            "  [0 0 0 ... 0 0 0]]\n",
            "\n",
            " [[0 0 0 ... 0 0 0]\n",
            "  [0 0 0 ... 0 0 0]\n",
            "  [0 0 0 ... 0 0 0]\n",
            "  ...\n",
            "  [0 0 0 ... 0 0 0]\n",
            "  [0 0 0 ... 0 0 0]\n",
            "  [0 0 0 ... 0 0 0]]\n",
            "\n",
            " [[0 0 0 ... 0 0 0]\n",
            "  [0 0 0 ... 0 0 0]\n",
            "  [0 0 0 ... 0 0 0]\n",
            "  ...\n",
            "  [0 0 0 ... 0 0 0]\n",
            "  [0 0 0 ... 0 0 0]\n",
            "  [0 0 0 ... 0 0 0]]]\n"
          ]
        }
      ]
    },
    {
      "cell_type": "code",
      "source": [
        "final_gm_array = binary_mask*img1_data\n",
        "#plt.imshow(final_gm_array, cmap='gray')"
      ],
      "metadata": {
        "id": "nQA_nvF_D7qL"
      },
      "execution_count": null,
      "outputs": []
    },
    {
      "cell_type": "code",
      "execution_count": null,
      "metadata": {
        "colab": {
          "base_uri": "https://localhost:8080/",
          "height": 294
        },
        "outputId": "547c0ebd-af2a-4be7-cfe8-85165b58dd59",
        "id": "tC_SbLXfEiXo"
      },
      "outputs": [
        {
          "output_type": "stream",
          "name": "stdout",
          "text": [
            "[      0 6641747       0       0]\n"
          ]
        },
        {
          "output_type": "display_data",
          "data": {
            "text/plain": [
              "<Figure size 432x288 with 1 Axes>"
            ],
            "image/png": "[encoded data removed]"
          },
          "metadata": {
            "needs_background": "light"
          }
        }
      ],
      "source": [
        "import numpy as np\n",
        "import skimage.color\n",
        "import skimage.io\n",
        "import matplotlib.pyplot as plt\n",
        "import cv2\n",
        "\n",
        "from skimage import color\n",
        "from skimage import io\n",
        "#img = color.rgb2gray(io.imread('smask_ref90.jpg'))\n",
        "hist, bin_edges = np.histogram(final_gm_array, bins=[-1, 0, 1,2,3])\n",
        "print(hist)\n",
        "import matplotlib.pyplot as plt\n",
        "plt.bar(bin_edges[:-1], hist, width = 1)\n",
        "plt.xlim(min(bin_edges), max(bin_edges))\n",
        "plt.show() \n",
        "#ret, binary_mask = cv2.threshold(img1, 0.8, 255, cv2.THRESH_BINARY)\n",
        "#fig, ax = plt.subplots()\n",
        "#plt.imshow(binary_mask, cmap=\"gray\")\n",
        "#plt.show()\n",
        "#plt.imsave('binarysmask_ref90.jpg', binary_mask, cmap='gray')"
      ]
    },
    {
      "cell_type": "code",
      "execution_count": null,
      "metadata": {
        "colab": {
          "base_uri": "https://localhost:8080/",
          "height": 423
        },
        "outputId": "86d8cbc3-d375-4885-d38a-c99b228a7faf",
        "id": "L2HwiH7O_7Da"
      },
      "outputs": [
        {
          "output_type": "stream",
          "name": "stdout",
          "text": [
            "y [6641747.       0.]\n",
            "x [0.  0.5 1. ]\n",
            "Average of the list = 0.5\n",
            "max_y 6641747.0\n",
            "min_x 0\n",
            "max_x 0\n",
            "fwhm 0.0\n"
          ]
        },
        {
          "output_type": "display_data",
          "data": {
            "text/plain": [
              "<Figure size 432x288 with 1 Axes>"
            ],
            "image/png": "[encoded data removed]"
          },
          "metadata": {
            "needs_background": "light"
          }
        },
        {
          "output_type": "stream",
          "name": "stdout",
          "text": [
            "thresh 0.5\n"
          ]
        }
      ],
      "source": [
        "import numpy as np\n",
        "import skimage.color\n",
        "import skimage.io\n",
        "import matplotlib.pyplot as plt\n",
        "import cv2\n",
        "from skimage import color\n",
        "from skimage import io\n",
        "from scipy.interpolate import splrep, sproot, splev\n",
        "from matplotlib import pyplot as mp\n",
        "import numpy as np\n",
        "\n",
        "#img = color.rgb2gray(io.imread('finalFLAIR_ref90.jpg'))\n",
        "(y, x, patches) = plt.hist(final_gm_array.ravel(), bins=[0,0.5,1], range=(0, 1))\n",
        "print (\"y\" , y)\n",
        "print (\"x\", x)\n",
        "half_max = max(y) / 2.\n",
        "######################\n",
        "########find mean value of x\n",
        "def Average(x):\n",
        "    return sum(x) / len(x)\n",
        "  \n",
        "# Driver Code\n",
        "average = Average(x)\n",
        "  \n",
        "# Printing average of the list\n",
        "print(\"Average of the list =\", round(average, 2))\n",
        "####################calculation of fwhm\n",
        "max_y = max(y)  # Find the maximum y value\n",
        "print (\"max_y\", max_y)\n",
        "max_y = max(y)  # Find the maximum y value\n",
        "xs = [x for x in range(0,1) if y[x] > max_y/2.0]\n",
        "min_x = min(xs) # Print the points at half-maximum\n",
        "print(\"min_x\", min_x)\n",
        "max_x = max(xs)\n",
        "print(\"max_x\", max_x)\n",
        "fwhm = (max_x - min_x)/255.0\n",
        "print(\"fwhm\", fwhm)\n",
        "#######################\n",
        "\n",
        "\n",
        "import cv2\n",
        "#ret, binary_mask = cv2.threshold(img, 0.7, 255, cv2.THRESH_BINARY)\n",
        "#fig, ax = plt.subplots()\n",
        "#plt.imshow(binary_mask, cmap=\"gray\")\n",
        "plt.show()\n",
        "#plt.imsave('lesionmask_ref90.jpg', binary_mask, cmap='gray')\n",
        "import numpy as np\n",
        "import scipy.optimize as opt\n",
        "\n",
        "import numpy as np\n",
        "import scipy.optimize as opt\n",
        "\n",
        "\n",
        "c = 2\n",
        "standard_deviation = fwhm/2.35\n",
        "thresh = average + c*standard_deviation\n",
        "print (\"thresh\",thresh)\n",
        "ret , lesion = cv2.threshold(final_gm_array, thresh, 255, cv2.THRESH_BINARY)\n",
        "#plt.imshow(lesion, cmap=\"gray\")\n",
        "#plt.imsave('lesion.jpg', binary_mask, cmap='gray')"
      ]
    },
    {
      "cell_type": "code",
      "source": [
        "import cv2\n",
        "import numpy as np\n",
        "from matplotlib import pyplot as plt\n",
        "\n",
        "img = cv2.imread('lesionmask_ref90.jpg')\n",
        "median = cv2.medianBlur(img,3)\n",
        "\n",
        "plt.subplot(121),plt.imshow(img),plt.title('Original')\n",
        "plt.xticks([]), plt.yticks([])\n",
        "plt.subplot(122),plt.imshow(median),plt.title('Blurred')\n",
        "plt.xticks([]), plt.yticks([])\n",
        "plt.show()\n",
        "plt.imsave('median3onlesion.jpg', median, cmap='gray')"
      ],
      "metadata": {
        "colab": {
          "base_uri": "https://localhost:8080/",
          "height": 233
        },
        "id": "qu0hzrtQA2TY",
        "outputId": "aee1aff1-d048-4927-d022-74caaeeb0e0e"
      },
      "execution_count": null,
      "outputs": [
        {
          "output_type": "display_data",
          "data": {
            "text/plain": [
              "<Figure size 432x288 with 2 Axes>"
            ],
            "image/png": "[encoded data removed]"
          },
          "metadata": {}
        }
      ]
    }
  ],
  "metadata": {
    "colab": {
      "name": "idaa3.ipynb",
      "provenance": [],
      "collapsed_sections": [],
      "include_colab_link": true
    },
    "kernelspec": {
      "display_name": "Python 3",
      "name": "python3"
    },
    "language_info": {
      "name": "python"
    }
  },
  "nbformat": 4,
  "nbformat_minor": 0
}