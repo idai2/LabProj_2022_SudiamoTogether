{
  "nbformat": 4,
  "nbformat_minor": 0,
  "metadata": {
    "colab": {
      "provenance": [],
      "authorship_tag": "ABX9TyNinfBJ3LM2/qLuhpMmCFXJ",
      "include_colab_link": true
    },
    "kernelspec": {
      "name": "python3",
      "display_name": "Python 3"
    },
    "language_info": {
      "name": "python"
    }
  },
  "cells": [
    {
      "cell_type": "markdown",
      "metadata": {
        "id": "view-in-github",
        "colab_type": "text"
      },
      "source": [
        "<a href=\"https://colab.research.google.com/github/idai2/LabProj_2022_SudiamoTogether/blob/main/testing.ipynb\" target=\"_parent\"><img src=\"https://colab.research.google.com/assets/colab-badge.svg\" alt=\"Open In Colab\"/></a>"
      ]
    },
    {
      "cell_type": "code",
      "source": [
        "class IdaError(Exception):\n",
        "    pass"
      ],
      "metadata": {
        "id": "wP-1YzxeOzzJ"
      },
      "execution_count": null,
      "outputs": []
    },
    {
      "cell_type": "code",
      "source": [
        "raise IdaError(\"Ida is busy.\")"
      ],
      "metadata": {
        "colab": {
          "base_uri": "https://localhost:8080/",
          "height": 214
        },
        "id": "t7Yc5WJSOR-a",
        "outputId": "c97eddd3-9178-4d35-b83b-875e0d03924a"
      },
      "execution_count": null,
      "outputs": [
        {
          "output_type": "error",
          "ename": "IdaError",
          "evalue": "ignored",
          "traceback": [
            "\u001b[0;31m---------------------------------------------------------------------------\u001b[0m",
            "\u001b[0;31mIdaError\u001b[0m                                  Traceback (most recent call last)",
            "\u001b[0;32m<ipython-input-14-9cb38b1d1384>\u001b[0m in \u001b[0;36m<cell line: 1>\u001b[0;34m()\u001b[0m\n\u001b[0;32m----> 1\u001b[0;31m \u001b[0;32mraise\u001b[0m \u001b[0mIdaError\u001b[0m\u001b[0;34m(\u001b[0m\u001b[0;34m\"Ida is busy.\"\u001b[0m\u001b[0;34m)\u001b[0m\u001b[0;34m\u001b[0m\u001b[0;34m\u001b[0m\u001b[0m\n\u001b[0m",
            "\u001b[0;31mIdaError\u001b[0m: Ida is busy."
          ]
        }
      ]
    },
    {
      "cell_type": "code",
      "execution_count": null,
      "metadata": {
        "colab": {
          "base_uri": "https://localhost:8080/",
          "height": 35
        },
        "id": "3N4_6xLNG00n",
        "outputId": "d2797ae2-87d2-42a9-d4a0-5eefc64e9ac4"
      },
      "outputs": [
        {
          "output_type": "execute_result",
          "data": {
            "text/plain": [
              "'Mohammadreza'"
            ],
            "application/vnd.google.colaboratory.intrinsic+json": {
              "type": "string"
            }
          },
          "metadata": {},
          "execution_count": 4
        }
      ],
      "source": [
        "first_name = {\"Hosseini\": \"Mohammadreza\"}\n",
        "def multiplication(first_name, last_name):\n",
        "    \"\"\"this function divides two numbers\"\"\"\n",
        "    # perform the subtraction\n",
        "    exponent = first_name[last_name]\n",
        "    return exponent\n",
        "\n",
        "multiplication(first_name, \"Hosseini\")"
      ]
    },
    {
      "cell_type": "code",
      "source": [
        "import numpy as np\n",
        "print(np.linalg.eig.__doc__)"
      ],
      "metadata": {
        "colab": {
          "base_uri": "https://localhost:8080/"
        },
        "id": "tp9H5Ah7MYws",
        "outputId": "10c16d9b-1f18-42f8-8d19-037474b65735"
      },
      "execution_count": null,
      "outputs": [
        {
          "output_type": "stream",
          "name": "stdout",
          "text": [
            "\n",
            "    Compute the eigenvalues and right eigenvectors of a square array.\n",
            "\n",
            "    Parameters\n",
            "    ----------\n",
            "    a : (..., M, M) array\n",
            "        Matrices for which the eigenvalues and right eigenvectors will\n",
            "        be computed\n",
            "\n",
            "    Returns\n",
            "    -------\n",
            "    w : (..., M) array\n",
            "        The eigenvalues, each repeated according to its multiplicity.\n",
            "        The eigenvalues are not necessarily ordered. The resulting\n",
            "        array will be of complex type, unless the imaginary part is\n",
            "        zero in which case it will be cast to a real type. When `a`\n",
            "        is real the resulting eigenvalues will be real (0 imaginary\n",
            "        part) or occur in conjugate pairs\n",
            "\n",
            "    v : (..., M, M) array\n",
            "        The normalized (unit \"length\") eigenvectors, such that the\n",
            "        column ``v[:,i]`` is the eigenvector corresponding to the\n",
            "        eigenvalue ``w[i]``.\n",
            "\n",
            "    Raises\n",
            "    ------\n",
            "    LinAlgError\n",
            "        If the eigenvalue computation does not converge.\n",
            "\n",
            "    See Also\n",
            "    --------\n",
            "    eigvals : eigenvalues of a non-symmetric array.\n",
            "    eigh : eigenvalues and eigenvectors of a real symmetric or complex\n",
            "           Hermitian (conjugate symmetric) array.\n",
            "    eigvalsh : eigenvalues of a real symmetric or complex Hermitian\n",
            "               (conjugate symmetric) array.\n",
            "    scipy.linalg.eig : Similar function in SciPy that also solves the\n",
            "                       generalized eigenvalue problem.\n",
            "    scipy.linalg.schur : Best choice for unitary and other non-Hermitian\n",
            "                         normal matrices.\n",
            "\n",
            "    Notes\n",
            "    -----\n",
            "\n",
            "    .. versionadded:: 1.8.0\n",
            "\n",
            "    Broadcasting rules apply, see the `numpy.linalg` documentation for\n",
            "    details.\n",
            "\n",
            "    This is implemented using the ``_geev`` LAPACK routines which compute\n",
            "    the eigenvalues and eigenvectors of general square arrays.\n",
            "\n",
            "    The number `w` is an eigenvalue of `a` if there exists a vector\n",
            "    `v` such that ``a @ v = w * v``. Thus, the arrays `a`, `w`, and\n",
            "    `v` satisfy the equations ``a @ v[:,i] = w[i] * v[:,i]``\n",
            "    for :math:`i \\in \\{0,...,M-1\\}`.\n",
            "\n",
            "    The array `v` of eigenvectors may not be of maximum rank, that is, some\n",
            "    of the columns may be linearly dependent, although round-off error may\n",
            "    obscure that fact. If the eigenvalues are all different, then theoretically\n",
            "    the eigenvectors are linearly independent and `a` can be diagonalized by\n",
            "    a similarity transformation using `v`, i.e, ``inv(v) @ a @ v`` is diagonal.\n",
            "\n",
            "    For non-Hermitian normal matrices the SciPy function `scipy.linalg.schur`\n",
            "    is preferred because the matrix `v` is guaranteed to be unitary, which is\n",
            "    not the case when using `eig`. The Schur factorization produces an\n",
            "    upper triangular matrix rather than a diagonal matrix, but for normal\n",
            "    matrices only the diagonal of the upper triangular matrix is needed, the\n",
            "    rest is roundoff error.\n",
            "\n",
            "    Finally, it is emphasized that `v` consists of the *right* (as in\n",
            "    right-hand side) eigenvectors of `a`.  A vector `y` satisfying\n",
            "    ``y.T @ a = z * y.T`` for some number `z` is called a *left*\n",
            "    eigenvector of `a`, and, in general, the left and right eigenvectors\n",
            "    of a matrix are not necessarily the (perhaps conjugate) transposes\n",
            "    of each other.\n",
            "\n",
            "    References\n",
            "    ----------\n",
            "    G. Strang, *Linear Algebra and Its Applications*, 2nd Ed., Orlando, FL,\n",
            "    Academic Press, Inc., 1980, Various pp.\n",
            "\n",
            "    Examples\n",
            "    --------\n",
            "    >>> from numpy import linalg as LA\n",
            "\n",
            "    (Almost) trivial example with real e-values and e-vectors.\n",
            "\n",
            "    >>> w, v = LA.eig(np.diag((1, 2, 3)))\n",
            "    >>> w; v\n",
            "    array([1., 2., 3.])\n",
            "    array([[1., 0., 0.],\n",
            "           [0., 1., 0.],\n",
            "           [0., 0., 1.]])\n",
            "\n",
            "    Real matrix possessing complex e-values and e-vectors; note that the\n",
            "    e-values are complex conjugates of each other.\n",
            "\n",
            "    >>> w, v = LA.eig(np.array([[1, -1], [1, 1]]))\n",
            "    >>> w; v\n",
            "    array([1.+1.j, 1.-1.j])\n",
            "    array([[0.70710678+0.j        , 0.70710678-0.j        ],\n",
            "           [0.        -0.70710678j, 0.        +0.70710678j]])\n",
            "\n",
            "    Complex-valued matrix with real e-values (but complex-valued e-vectors);\n",
            "    note that ``a.conj().T == a``, i.e., `a` is Hermitian.\n",
            "\n",
            "    >>> a = np.array([[1, 1j], [-1j, 1]])\n",
            "    >>> w, v = LA.eig(a)\n",
            "    >>> w; v\n",
            "    array([2.+0.j, 0.+0.j])\n",
            "    array([[ 0.        +0.70710678j,  0.70710678+0.j        ], # may vary\n",
            "           [ 0.70710678+0.j        , -0.        +0.70710678j]])\n",
            "\n",
            "    Be careful about round-off error!\n",
            "\n",
            "    >>> a = np.array([[1 + 1e-9, 0], [0, 1 - 1e-9]])\n",
            "    >>> # Theor. e-values are 1 +/- 1e-9\n",
            "    >>> w, v = LA.eig(a)\n",
            "    >>> w; v\n",
            "    array([1., 1.])\n",
            "    array([[1., 0.],\n",
            "           [0., 1.]])\n",
            "\n",
            "    \n"
          ]
        }
      ]
    },
    {
      "cell_type": "code",
      "source": [
        "np.diag((1, 2, 3))"
      ],
      "metadata": {
        "colab": {
          "base_uri": "https://localhost:8080/"
        },
        "id": "cRU1OPtXP1dQ",
        "outputId": "54b1ebc1-97af-4dec-9782-c58c65b6eefd"
      },
      "execution_count": null,
      "outputs": [
        {
          "output_type": "execute_result",
          "data": {
            "text/plain": [
              "array([[1, 0, 0],\n",
              "       [0, 2, 0],\n",
              "       [0, 0, 3]])"
            ]
          },
          "metadata": {},
          "execution_count": 17
        }
      ]
    },
    {
      "cell_type": "code",
      "source": [
        "b = 3\n",
        "def a():\n",
        "    c = 9\n",
        "    return b * 2 + c\n",
        "print(a())\n",
        "b = 4\n",
        "print(a())"
      ],
      "metadata": {
        "colab": {
          "base_uri": "https://localhost:8080/"
        },
        "id": "tMlB_gMFNnlz",
        "outputId": "c500ecf4-b289-4610-b777-cccd6bec3be2"
      },
      "execution_count": null,
      "outputs": [
        {
          "output_type": "stream",
          "name": "stdout",
          "text": [
            "15\n",
            "17\n"
          ]
        }
      ]
    },
    {
      "cell_type": "code",
      "source": [
        "def inc(x):\n",
        "    return x + 1\n",
        "\n",
        "assert inc(0)==1\n",
        "assert inc(-1)==0\n",
        "assert inc(0.1)==1.1\n",
        "assert inc(6)==4"
      ],
      "metadata": {
        "colab": {
          "base_uri": "https://localhost:8080/",
          "height": 250
        },
        "id": "dcca9uIsRXcD",
        "outputId": "978fcc52-43ab-4d0d-f7ad-0f9470ac60e8"
      },
      "execution_count": null,
      "outputs": [
        {
          "output_type": "error",
          "ename": "AssertionError",
          "evalue": "ignored",
          "traceback": [
            "\u001b[0;31m---------------------------------------------------------------------------\u001b[0m",
            "\u001b[0;31mAssertionError\u001b[0m                            Traceback (most recent call last)",
            "\u001b[0;32m<ipython-input-24-0ae0749104e1>\u001b[0m in \u001b[0;36m<cell line: 7>\u001b[0;34m()\u001b[0m\n\u001b[1;32m      5\u001b[0m \u001b[0;32massert\u001b[0m \u001b[0minc\u001b[0m\u001b[0;34m(\u001b[0m\u001b[0;34m-\u001b[0m\u001b[0;36m1\u001b[0m\u001b[0;34m)\u001b[0m\u001b[0;34m==\u001b[0m\u001b[0;36m0\u001b[0m\u001b[0;34m\u001b[0m\u001b[0;34m\u001b[0m\u001b[0m\n\u001b[1;32m      6\u001b[0m \u001b[0;32massert\u001b[0m \u001b[0minc\u001b[0m\u001b[0;34m(\u001b[0m\u001b[0;36m0.1\u001b[0m\u001b[0;34m)\u001b[0m\u001b[0;34m==\u001b[0m\u001b[0;36m1.1\u001b[0m\u001b[0;34m\u001b[0m\u001b[0;34m\u001b[0m\u001b[0m\n\u001b[0;32m----> 7\u001b[0;31m \u001b[0;32massert\u001b[0m \u001b[0minc\u001b[0m\u001b[0;34m(\u001b[0m\u001b[0;36m6\u001b[0m\u001b[0;34m)\u001b[0m\u001b[0;34m==\u001b[0m\u001b[0;36m4\u001b[0m\u001b[0;34m\u001b[0m\u001b[0;34m\u001b[0m\u001b[0m\n\u001b[0m",
            "\u001b[0;31mAssertionError\u001b[0m: "
          ]
        }
      ]
    },
    {
      "cell_type": "code",
      "source": [
        "!pip install pytest"
      ],
      "metadata": {
        "colab": {
          "base_uri": "https://localhost:8080/"
        },
        "id": "zqSPIMTET8Xe",
        "outputId": "ea66c58d-a924-432f-f95a-bc1c14cc0bb7"
      },
      "execution_count": null,
      "outputs": [
        {
          "output_type": "stream",
          "name": "stdout",
          "text": [
            "Requirement already satisfied: pytest in /usr/local/lib/python3.10/dist-packages (7.2.2)\n",
            "Requirement already satisfied: attrs>=19.2.0 in /usr/local/lib/python3.10/dist-packages (from pytest) (23.1.0)\n",
            "Requirement already satisfied: iniconfig in /usr/local/lib/python3.10/dist-packages (from pytest) (2.0.0)\n",
            "Requirement already satisfied: packaging in /usr/local/lib/python3.10/dist-packages (from pytest) (23.1)\n",
            "Requirement already satisfied: pluggy<2.0,>=0.12 in /usr/local/lib/python3.10/dist-packages (from pytest) (1.2.0)\n",
            "Requirement already satisfied: exceptiongroup>=1.0.0rc8 in /usr/local/lib/python3.10/dist-packages (from pytest) (1.1.2)\n",
            "Requirement already satisfied: tomli>=1.0.0 in /usr/local/lib/python3.10/dist-packages (from pytest) (2.0.1)\n"
          ]
        }
      ]
    },
    {
      "cell_type": "code",
      "source": [
        "%%file test_prova.py\n",
        "def inc(x):\n",
        "    return x + 1\n",
        "\n",
        "def test_answer_1():\n",
        "    assert inc(3) == 5\n",
        "\n",
        "def test_answer_2():\n",
        "    assert inc(7) == 7"
      ],
      "metadata": {
        "colab": {
          "base_uri": "https://localhost:8080/"
        },
        "id": "Yqz5c9noT93H",
        "outputId": "093e54ad-aa1a-4cc5-df9b-d286a3c8dcd1"
      },
      "execution_count": null,
      "outputs": [
        {
          "output_type": "stream",
          "name": "stdout",
          "text": [
            "Writing test_prova.py\n"
          ]
        }
      ]
    },
    {
      "cell_type": "code",
      "source": [
        "!pytest test_prova.py"
      ],
      "metadata": {
        "colab": {
          "base_uri": "https://localhost:8080/"
        },
        "id": "grj2ZwCUUPEI",
        "outputId": "30f268ee-940d-4c64-9263-4718269c5d15"
      },
      "execution_count": null,
      "outputs": [
        {
          "output_type": "stream",
          "name": "stdout",
          "text": [
            "\u001b[1m============================= test session starts ==============================\u001b[0m\n",
            "platform linux -- Python 3.10.12, pytest-7.2.2, pluggy-1.2.0\n",
            "rootdir: /content\n",
            "plugins: anyio-3.7.1\n",
            "\u001b[1mcollecting ... \u001b[0m\u001b[1m\rcollected 2 items                                                              \u001b[0m\n",
            "\n",
            "test_prova.py \u001b[31mF\u001b[0m\u001b[31mF\u001b[0m\u001b[31m                                                         [100%]\u001b[0m\n",
            "\n",
            "=================================== FAILURES ===================================\n",
            "\u001b[31m\u001b[1m________________________________ test_answer_1 _________________________________\u001b[0m\n",
            "\n",
            "    \u001b[94mdef\u001b[39;49;00m \u001b[92mtest_answer_1\u001b[39;49;00m():\u001b[90m\u001b[39;49;00m\n",
            ">       \u001b[94massert\u001b[39;49;00m inc(\u001b[94m3\u001b[39;49;00m) == \u001b[94m5\u001b[39;49;00m\u001b[90m\u001b[39;49;00m\n",
            "\u001b[1m\u001b[31mE       assert 4 == 5\u001b[0m\n",
            "\u001b[1m\u001b[31mE        +  where 4 = inc(3)\u001b[0m\n",
            "\n",
            "\u001b[1m\u001b[31mtest_prova.py\u001b[0m:5: AssertionError\n",
            "\u001b[31m\u001b[1m________________________________ test_answer_2 _________________________________\u001b[0m\n",
            "\n",
            "    \u001b[94mdef\u001b[39;49;00m \u001b[92mtest_answer_2\u001b[39;49;00m():\u001b[90m\u001b[39;49;00m\n",
            ">       \u001b[94massert\u001b[39;49;00m inc(\u001b[94m7\u001b[39;49;00m) == \u001b[94m7\u001b[39;49;00m\u001b[90m\u001b[39;49;00m\n",
            "\u001b[1m\u001b[31mE       assert 8 == 7\u001b[0m\n",
            "\u001b[1m\u001b[31mE        +  where 8 = inc(7)\u001b[0m\n",
            "\n",
            "\u001b[1m\u001b[31mtest_prova.py\u001b[0m:8: AssertionError\n",
            "\u001b[36m\u001b[1m=========================== short test summary info ============================\u001b[0m\n",
            "\u001b[31mFAILED\u001b[0m test_prova.py::\u001b[1mtest_answer_1\u001b[0m - assert 4 == 5\n",
            "\u001b[31mFAILED\u001b[0m test_prova.py::\u001b[1mtest_answer_2\u001b[0m - assert 8 == 7\n",
            "\u001b[31m============================== \u001b[31m\u001b[1m2 failed\u001b[0m\u001b[31m in 0.09s\u001b[0m\u001b[31m ===============================\u001b[0m\n"
          ]
        }
      ]
    },
    {
      "cell_type": "code",
      "source": [
        "rule30 = {\"000\": '.',\n",
        "          \"00.\": '.',\n",
        "          \"0.0\": '.',\n",
        "          \"...\": '.',\n",
        "          \"0..\": '0',\n",
        "          \".00\": '0',\n",
        "          \".0.\": '0',\n",
        "          \"..0\": '0',\n",
        "         }"
      ],
      "metadata": {
        "id": "okQAamQaY5kt"
      },
      "execution_count": null,
      "outputs": []
    },
    {
      "cell_type": "code",
      "source": [
        "def simulation(nsteps):\n",
        "    initial_state = generate_state()\n",
        "    states_seq = [initial_state]\n",
        "    for i in range(nsteps):\n",
        "        old_state = states_seq[-1]\n",
        "        new_state = evolve(old_state)\n",
        "        states_seq.append(new_state)\n",
        "    return states_seq"
      ],
      "metadata": {
        "id": "H9dFjrtQXjUa"
      },
      "execution_count": null,
      "outputs": []
    },
    {
      "cell_type": "code",
      "source": [
        "list(range(4))"
      ],
      "metadata": {
        "colab": {
          "base_uri": "https://localhost:8080/"
        },
        "id": "NJFjAVkQia13",
        "outputId": "39e5d3bf-35d7-4cfb-98f6-a5eb4b05f659"
      },
      "execution_count": null,
      "outputs": [
        {
          "output_type": "execute_result",
          "data": {
            "text/plain": [
              "[0, 1, 2, 3]"
            ]
          },
          "metadata": {},
          "execution_count": 79
        }
      ]
    },
    {
      "cell_type": "code",
      "source": [
        "def generate_state():\n",
        "    return \".....0......\"\n",
        "\n",
        "def evolve(state):\n",
        "    new_state = state[0]\n",
        "    for i in range(1, len(state)-1):\n",
        "        current_windows = state[i-1:i+2]\n",
        "        new_state += rule30[current_windows]\n",
        "    new_state += state[-1]\n",
        "    return new_state"
      ],
      "metadata": {
        "id": "7oasjzZOZCcX"
      },
      "execution_count": null,
      "outputs": []
    },
    {
      "cell_type": "code",
      "source": [
        "simulation(20)"
      ],
      "metadata": {
        "colab": {
          "base_uri": "https://localhost:8080/"
        },
        "id": "qwmHqG_tZGbi",
        "outputId": "422e5c5c-2df1-45f5-8ef4-bd7b884a3cce"
      },
      "execution_count": null,
      "outputs": [
        {
          "output_type": "execute_result",
          "data": {
            "text/plain": [
              "['.....0......',\n",
              " '....000.....',\n",
              " '...00..0....',\n",
              " '..00.0000...',\n",
              " '.00..0...0..',\n",
              " '.0.0000.000.',\n",
              " '.0.0....0...',\n",
              " '.0.00..000..',\n",
              " '.0.0.000..0.',\n",
              " '.0.0.0..000.',\n",
              " '.0.0.0000...',\n",
              " '.0.0.0...0..',\n",
              " '.0.0.00.000.',\n",
              " '.0.0.0..0...',\n",
              " '.0.0.00000..',\n",
              " '.0.0.0....0.',\n",
              " '.0.0.00..00.',\n",
              " '.0.0.0.000..',\n",
              " '.0.0.0.0..0.',\n",
              " '.0.0.0.0000.',\n",
              " '.0.0.0.0....']"
            ]
          },
          "metadata": {},
          "execution_count": 87
        }
      ]
    },
    {
      "cell_type": "code",
      "source": [
        "%%file test_prova.py\n",
        "\n",
        "RULES = {30: {\"...\": '0', \"..0\": '0', \".0.\": '0', \"000\": '0',\n",
        "              \".00\": '.', \"0..\": '.', \"0.0\": '.', \"00.\": '.'},\n",
        "\n",
        "         90: {\"...\": \"0\", \"..0\": \".\", \".0.\": \"0\", \".00\": \".\",\n",
        "              \"0..\": \".\", \"0.0\": \"0\", \"00.\": \".\", \"000\": \"0\"},\n",
        "\n",
        "         110: {\"...\": '0', \"..0\": '.', \".0.\": '.', \".00\": '0',\n",
        "               \"0..\": '.', \"0.0\": '.', \"00.\": '.', \"000\": '0'},\n",
        "\n",
        "         184: {\"...\": \".\", \"..0\": \"0\", \".0.\": \".\", \".00\": \".\",\n",
        "               \"0..\": \".\", \"0.0\": \"0\", \"00.\": \"0\", \"000\": \"0\"}\n",
        "         }\n",
        "\n",
        "def generate_state():\n",
        "    return \".....0......\"\n",
        "\n",
        "def evolve(state):\n",
        "    new_state = state[0]\n",
        "    for i in range(1, len(state)-1):\n",
        "        current_windows = state[i-1:i+2]\n",
        "        new_state += RULES[30][current_windows]\n",
        "    new_state += state[-1]\n",
        "    return new_state\n",
        "\n",
        "def simulation(nsteps):\n",
        "    initial_state = generate_state()\n",
        "    states_seq = [initial_state]\n",
        "    for i in range(nsteps):\n",
        "        old_state = states_seq[-1]\n",
        "        new_state = evolve(old_state)\n",
        "        states_seq.append(new_state)\n",
        "    return states_seq\n",
        "\n",
        "########################################################\n",
        "\n",
        "def test_generation_valid_state():\n",
        "    state = generate_state()\n",
        "    assert set(state) == {'.', '0'}\n",
        "\n",
        "def test_generation_single_alive():\n",
        "    state = generate_state()\n",
        "    num_of_0 = sum(1 for i in state if i=='0')\n",
        "    assert num_of_0 == 1\n",
        "\n",
        "# exercise\n",
        "def test_evolution_of_valid_state():\n",
        "    state = generate_state()\n",
        "    new_state = evolve(state)\n",
        "    assert set(new_state) == {'.', '0'}\n",
        "\n",
        "def test_evolve_input_output_length():\n",
        "    state = generate_state()\n",
        "    new_state = evolve(state)\n",
        "    assert len(state) == len(new_state)"
      ],
      "metadata": {
        "colab": {
          "base_uri": "https://localhost:8080/"
        },
        "id": "-rKd9CifZjdl",
        "outputId": "7afb14a7-54ad-4bfe-cf1e-d73f3adf0e55"
      },
      "execution_count": null,
      "outputs": [
        {
          "output_type": "stream",
          "name": "stdout",
          "text": [
            "Overwriting test_prova.py\n"
          ]
        }
      ]
    },
    {
      "cell_type": "code",
      "source": [
        "!pytest test_prova.py"
      ],
      "metadata": {
        "colab": {
          "base_uri": "https://localhost:8080/"
        },
        "id": "iTFMs_zMbHK3",
        "outputId": "4e0c223e-94af-42ce-d955-0218959ba618"
      },
      "execution_count": null,
      "outputs": [
        {
          "output_type": "stream",
          "name": "stdout",
          "text": [
            "\u001b[1m============================= test session starts ==============================\u001b[0m\n",
            "platform linux -- Python 3.10.12, pytest-7.4.0, pluggy-1.2.0\n",
            "rootdir: /content\n",
            "plugins: anyio-3.7.1\n",
            "\u001b[1mcollecting ... \u001b[0m\u001b[1m\rcollected 0 items                                                              \u001b[0m\n",
            "\n",
            "\u001b[33m============================ \u001b[33mno tests ran\u001b[0m\u001b[33m in 0.01s\u001b[0m\u001b[33m =============================\u001b[0m\n",
            "\u001b[31mERROR: file or directory not found: test_prova.py\n",
            "\u001b[0m\n"
          ]
        }
      ]
    },
    {
      "cell_type": "markdown",
      "source": [
        "simulation(20)"
      ],
      "metadata": {
        "id": "f6j-y9vjcSQc"
      }
    },
    {
      "cell_type": "code",
      "source": [],
      "metadata": {
        "id": "jh-b4_kOd5Z6"
      },
      "execution_count": 4,
      "outputs": []
    }
  ]
}